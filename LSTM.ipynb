{
  "nbformat": 4,
  "nbformat_minor": 0,
  "metadata": {
    "colab": {
      "name": "LSTM.ipynb",
      "provenance": []
    },
    "kernelspec": {
      "name": "python3",
      "display_name": "Python 3"
    },
    "accelerator": "GPU"
  },
  "cells": [
    {
      "cell_type": "code",
      "metadata": {
        "id": "85lOl_LkA3Oh",
        "colab_type": "code",
        "colab": {}
      },
      "source": [
        "import numpy as np\n",
        "import pandas as pd\n",
        "import matplotlib.pyplot as plt"
      ],
      "execution_count": 1,
      "outputs": []
    },
    {
      "cell_type": "code",
      "metadata": {
        "id": "Ry8MlY7dBYry",
        "colab_type": "code",
        "colab": {}
      },
      "source": [
        "df = pd.read_csv('data.csv')"
      ],
      "execution_count": 2,
      "outputs": []
    },
    {
      "cell_type": "code",
      "metadata": {
        "id": "6nS0rMVWBnsv",
        "colab_type": "code",
        "colab": {
          "base_uri": "https://localhost:8080/",
          "height": 380
        },
        "outputId": "b2ed9e7f-f6c7-4fe3-e4f2-ff6b771972b5"
      },
      "source": [
        "df['Length'] = [len(headline) for headline in df['Headline']]\n",
        "df.head()"
      ],
      "execution_count": 3,
      "outputs": [
        {
          "output_type": "execute_result",
          "data": {
            "text/html": [
              "<div>\n",
              "<style scoped>\n",
              "    .dataframe tbody tr th:only-of-type {\n",
              "        vertical-align: middle;\n",
              "    }\n",
              "\n",
              "    .dataframe tbody tr th {\n",
              "        vertical-align: top;\n",
              "    }\n",
              "\n",
              "    .dataframe thead th {\n",
              "        text-align: right;\n",
              "    }\n",
              "</style>\n",
              "<table border=\"1\" class=\"dataframe\">\n",
              "  <thead>\n",
              "    <tr style=\"text-align: right;\">\n",
              "      <th></th>\n",
              "      <th>URLs</th>\n",
              "      <th>Headline</th>\n",
              "      <th>Body</th>\n",
              "      <th>Label</th>\n",
              "      <th>Length</th>\n",
              "    </tr>\n",
              "  </thead>\n",
              "  <tbody>\n",
              "    <tr>\n",
              "      <th>0</th>\n",
              "      <td>http://www.bbc.com/news/world-us-canada-414191...</td>\n",
              "      <td>Four ways Bob Corker skewered Donald Trump</td>\n",
              "      <td>Image copyright Getty Images\\nOn Sunday mornin...</td>\n",
              "      <td>1</td>\n",
              "      <td>42</td>\n",
              "    </tr>\n",
              "    <tr>\n",
              "      <th>1</th>\n",
              "      <td>https://www.reuters.com/article/us-filmfestiva...</td>\n",
              "      <td>Linklater's war veteran comedy speaks to moder...</td>\n",
              "      <td>LONDON (Reuters) - “Last Flag Flying”, a comed...</td>\n",
              "      <td>1</td>\n",
              "      <td>66</td>\n",
              "    </tr>\n",
              "    <tr>\n",
              "      <th>2</th>\n",
              "      <td>https://www.nytimes.com/2017/10/09/us/politics...</td>\n",
              "      <td>Trump’s Fight With Corker Jeopardizes His Legi...</td>\n",
              "      <td>The feud broke into public view last week when...</td>\n",
              "      <td>1</td>\n",
              "      <td>60</td>\n",
              "    </tr>\n",
              "    <tr>\n",
              "      <th>3</th>\n",
              "      <td>https://www.reuters.com/article/us-mexico-oil-...</td>\n",
              "      <td>Egypt's Cheiron wins tie-up with Pemex for Mex...</td>\n",
              "      <td>MEXICO CITY (Reuters) - Egypt’s Cheiron Holdin...</td>\n",
              "      <td>1</td>\n",
              "      <td>68</td>\n",
              "    </tr>\n",
              "    <tr>\n",
              "      <th>4</th>\n",
              "      <td>http://www.cnn.com/videos/cnnmoney/2017/10/08/...</td>\n",
              "      <td>Jason Aldean opens 'SNL' with Vegas tribute</td>\n",
              "      <td>Country singer Jason Aldean, who was performin...</td>\n",
              "      <td>1</td>\n",
              "      <td>43</td>\n",
              "    </tr>\n",
              "  </tbody>\n",
              "</table>\n",
              "</div>"
            ],
            "text/plain": [
              "                                                URLs  ... Length\n",
              "0  http://www.bbc.com/news/world-us-canada-414191...  ...     42\n",
              "1  https://www.reuters.com/article/us-filmfestiva...  ...     66\n",
              "2  https://www.nytimes.com/2017/10/09/us/politics...  ...     60\n",
              "3  https://www.reuters.com/article/us-mexico-oil-...  ...     68\n",
              "4  http://www.cnn.com/videos/cnnmoney/2017/10/08/...  ...     43\n",
              "\n",
              "[5 rows x 5 columns]"
            ]
          },
          "metadata": {
            "tags": []
          },
          "execution_count": 3
        }
      ]
    },
    {
      "cell_type": "code",
      "metadata": {
        "id": "22SVxCwVBqCR",
        "colab_type": "code",
        "colab": {
          "base_uri": "https://localhost:8080/",
          "height": 173
        },
        "outputId": "9ce4913c-e11c-419b-cf6f-cc6a080ba540"
      },
      "source": [
        "print(df['Length'].describe())"
      ],
      "execution_count": 4,
      "outputs": [
        {
          "output_type": "stream",
          "text": [
            "count    4009.000000\n",
            "mean       60.104016\n",
            "std        22.660900\n",
            "min         6.000000\n",
            "25%        48.000000\n",
            "50%        60.000000\n",
            "75%        69.000000\n",
            "max       653.000000\n",
            "Name: Length, dtype: float64\n"
          ],
          "name": "stdout"
        }
      ]
    },
    {
      "cell_type": "code",
      "metadata": {
        "id": "oRoXdzXbBtbY",
        "colab_type": "code",
        "colab": {
          "base_uri": "https://localhost:8080/",
          "height": 86
        },
        "outputId": "81f50ef0-dead-4378-8745-f2630bdcde27"
      },
      "source": [
        "filter = df['Label'] == 1\n",
        "pos = df[filter]\n",
        "print(len(pos))\n",
        "\n",
        "filter = df['Label'] == 0\n",
        "neg = df[filter]\n",
        "print(len(neg))\n",
        "\n",
        "mean = min(len(pos), len(neg))\n",
        "\n",
        "p_data = pos.sample(n = mean)\n",
        "print(len(p_data))\n",
        "\n",
        "n_data = neg.sample(n = mean)\n",
        "print(len(n_data))"
      ],
      "execution_count": 5,
      "outputs": [
        {
          "output_type": "stream",
          "text": [
            "1872\n",
            "2137\n",
            "1872\n",
            "1872\n"
          ],
          "name": "stdout"
        }
      ]
    },
    {
      "cell_type": "code",
      "metadata": {
        "id": "ckz2znnVBvlf",
        "colab_type": "code",
        "colab": {}
      },
      "source": [
        "test_split = 0.3\n",
        "train_split = 1 - test_split\n",
        "\n",
        "p_train_data = p_data.sample(frac=train_split)\n",
        "p_test_data = p_data.drop(p_train_data.index)\n",
        "\n",
        "n_train_data = n_data.sample(frac=train_split)\n",
        "n_test_data = n_data.drop(n_train_data.index)\n",
        "\n",
        "train_data = pd.concat([p_train_data, n_train_data])\n",
        "test_data = pd.concat([p_test_data, n_test_data])\n",
        "\n",
        "train_data = train_data.sample(frac=1)\n",
        "test_data = test_data.sample(frac=1)\n",
        "\n",
        "x_train_data = train_data['Headline'].fillna('')\n",
        "y_train_data = train_data['Label']\n",
        "x_test_data = test_data['Headline'].fillna('')\n",
        "y_test_data = test_data['Label']"
      ],
      "execution_count": 6,
      "outputs": []
    },
    {
      "cell_type": "code",
      "metadata": {
        "id": "KIHspExYBxhq",
        "colab_type": "code",
        "colab": {
          "base_uri": "https://localhost:8080/",
          "height": 34
        },
        "outputId": "029b32c3-3b0e-46d5-b43f-003abcedaa86"
      },
      "source": [
        "from keras.preprocessing import sequence\n",
        "from keras.preprocessing.text import Tokenizer"
      ],
      "execution_count": 7,
      "outputs": [
        {
          "output_type": "stream",
          "text": [
            "Using TensorFlow backend.\n"
          ],
          "name": "stderr"
        }
      ]
    },
    {
      "cell_type": "code",
      "metadata": {
        "id": "tz1674_8BzJp",
        "colab_type": "code",
        "colab": {}
      },
      "source": [
        "token_num = 4000\n",
        "\n",
        "data_length = int(df['Length'].describe()['mean'])\n",
        "\n",
        "output_length = 32\n",
        "\n",
        "dropout = 0.2\n",
        "lstm_dim = 256"
      ],
      "execution_count": 8,
      "outputs": []
    },
    {
      "cell_type": "code",
      "metadata": {
        "id": "1mywXYhMB0nH",
        "colab_type": "code",
        "colab": {}
      },
      "source": [
        "token = Tokenizer(num_words = token_num, filters = '!\"#$%&()*+,-./:;<=>?@[\\\\]^_`{|}~\\t\\n')\n",
        "token.fit_on_texts(x_train_data)"
      ],
      "execution_count": 9,
      "outputs": []
    },
    {
      "cell_type": "code",
      "metadata": {
        "id": "FYvN7rkKB2Mc",
        "colab_type": "code",
        "colab": {}
      },
      "source": [
        "x_train_sequence = token.texts_to_sequences(x_train_data)\n",
        "x_test_sequence = token.texts_to_sequences(x_test_data)"
      ],
      "execution_count": 10,
      "outputs": []
    },
    {
      "cell_type": "code",
      "metadata": {
        "id": "z8X72QLBB4_z",
        "colab_type": "code",
        "colab": {}
      },
      "source": [
        "x_train = sequence.pad_sequences(x_train_sequence, maxlen = data_length)\n",
        "x_test = sequence.pad_sequences(x_test_sequence, maxlen = data_length)"
      ],
      "execution_count": 11,
      "outputs": []
    },
    {
      "cell_type": "code",
      "metadata": {
        "id": "w9wfepeKB6Lo",
        "colab_type": "code",
        "colab": {}
      },
      "source": [
        "from keras.models import Sequential\n",
        "from keras.layers import Dense, Dropout, Activation, Embedding, LSTM\n",
        "from keras.callbacks import EarlyStopping"
      ],
      "execution_count": 12,
      "outputs": []
    },
    {
      "cell_type": "code",
      "metadata": {
        "id": "yGCYT98nCBaz",
        "colab_type": "code",
        "colab": {
          "base_uri": "https://localhost:8080/",
          "height": 416
        },
        "outputId": "7414c929-55f2-4088-9f32-9fe6c2f7b7f0"
      },
      "source": [
        "model = Sequential()\n",
        "model.add(Embedding(output_dim = output_length, input_dim=token_num, input_length=data_length))\n",
        "model.add(Dropout(dropout))\n",
        "model.add(LSTM(lstm_dim))\n",
        "model.add(Dropout(dropout))\n",
        "model.add(Dense(units=256, activation='relu'))\n",
        "model.add(Dropout(dropout))\n",
        "model.add(Dense(units=1, activation='sigmoid'))\n",
        "print(model.summary())"
      ],
      "execution_count": 13,
      "outputs": [
        {
          "output_type": "stream",
          "text": [
            "Model: \"sequential_1\"\n",
            "_________________________________________________________________\n",
            "Layer (type)                 Output Shape              Param #   \n",
            "=================================================================\n",
            "embedding_1 (Embedding)      (None, 60, 32)            128000    \n",
            "_________________________________________________________________\n",
            "dropout_1 (Dropout)          (None, 60, 32)            0         \n",
            "_________________________________________________________________\n",
            "lstm_1 (LSTM)                (None, 256)               295936    \n",
            "_________________________________________________________________\n",
            "dropout_2 (Dropout)          (None, 256)               0         \n",
            "_________________________________________________________________\n",
            "dense_1 (Dense)              (None, 256)               65792     \n",
            "_________________________________________________________________\n",
            "dropout_3 (Dropout)          (None, 256)               0         \n",
            "_________________________________________________________________\n",
            "dense_2 (Dense)              (None, 1)                 257       \n",
            "=================================================================\n",
            "Total params: 489,985\n",
            "Trainable params: 489,985\n",
            "Non-trainable params: 0\n",
            "_________________________________________________________________\n",
            "None\n"
          ],
          "name": "stdout"
        }
      ]
    },
    {
      "cell_type": "code",
      "metadata": {
        "id": "auSnyYtkCI3P",
        "colab_type": "code",
        "colab": {}
      },
      "source": [
        "model.compile(loss='binary_crossentropy', optimizer='adam', metrics=['accuracy'])\n",
        "es = EarlyStopping(monitor='val_loss', patience=5, verbose=2)"
      ],
      "execution_count": 14,
      "outputs": []
    },
    {
      "cell_type": "code",
      "metadata": {
        "id": "sBzNY3hcCMyY",
        "colab_type": "code",
        "colab": {
          "base_uri": "https://localhost:8080/",
          "height": 454
        },
        "outputId": "7060192f-e26c-40ce-8854-0b6341294227"
      },
      "source": [
        "train_history = model.fit(x=x_train, y=y_train_data, validation_split=0.3, epochs=20, batch_size=100, verbose=1, callbacks=[es])"
      ],
      "execution_count": 15,
      "outputs": [
        {
          "output_type": "stream",
          "text": [
            "/usr/local/lib/python3.6/dist-packages/tensorflow/python/framework/indexed_slices.py:434: UserWarning: Converting sparse IndexedSlices to a dense Tensor of unknown shape. This may consume a large amount of memory.\n",
            "  \"Converting sparse IndexedSlices to a dense Tensor of unknown shape. \"\n"
          ],
          "name": "stderr"
        },
        {
          "output_type": "stream",
          "text": [
            "Train on 1833 samples, validate on 787 samples\n",
            "Epoch 1/20\n",
            "1833/1833 [==============================] - 4s 2ms/step - loss: 0.6913 - accuracy: 0.5281 - val_loss: 0.6834 - val_accuracy: 0.5604\n",
            "Epoch 2/20\n",
            "1833/1833 [==============================] - 2s 1ms/step - loss: 0.6431 - accuracy: 0.6727 - val_loss: 0.5763 - val_accuracy: 0.7319\n",
            "Epoch 3/20\n",
            "1833/1833 [==============================] - 2s 1ms/step - loss: 0.5513 - accuracy: 0.7954 - val_loss: 0.5225 - val_accuracy: 0.7675\n",
            "Epoch 4/20\n",
            "1833/1833 [==============================] - 2s 1ms/step - loss: 0.3506 - accuracy: 0.8843 - val_loss: 0.3882 - val_accuracy: 0.8348\n",
            "Epoch 5/20\n",
            "1833/1833 [==============================] - 2s 1ms/step - loss: 0.1746 - accuracy: 0.9389 - val_loss: 0.3725 - val_accuracy: 0.8488\n",
            "Epoch 6/20\n",
            "1833/1833 [==============================] - 2s 1ms/step - loss: 0.0995 - accuracy: 0.9645 - val_loss: 0.3775 - val_accuracy: 0.8488\n",
            "Epoch 7/20\n",
            "1833/1833 [==============================] - 2s 1ms/step - loss: 0.0580 - accuracy: 0.9793 - val_loss: 0.4126 - val_accuracy: 0.8475\n",
            "Epoch 8/20\n",
            "1833/1833 [==============================] - 2s 1ms/step - loss: 0.0325 - accuracy: 0.9924 - val_loss: 0.4520 - val_accuracy: 0.8501\n",
            "Epoch 9/20\n",
            "1833/1833 [==============================] - 2s 1ms/step - loss: 0.0210 - accuracy: 0.9935 - val_loss: 0.4680 - val_accuracy: 0.8475\n",
            "Epoch 10/20\n",
            "1833/1833 [==============================] - 2s 1ms/step - loss: 0.0162 - accuracy: 0.9962 - val_loss: 0.5034 - val_accuracy: 0.8399\n",
            "Epoch 00010: early stopping\n"
          ],
          "name": "stdout"
        }
      ]
    },
    {
      "cell_type": "code",
      "metadata": {
        "id": "MeJaA-5sCQwA",
        "colab_type": "code",
        "colab": {}
      },
      "source": [
        "def show_train_history(train_history, train, validation):\n",
        "    plt.plot(train_history.history[train])\n",
        "    plt.plot(train_history.history[validation])\n",
        "    plt.title('Train History')\n",
        "    plt.ylabel(train)\n",
        "    plt.xlabel('Epoch')\n",
        "    plt.legend(['train', 'validation'], loc = 'upper left')\n",
        "    plt.show()"
      ],
      "execution_count": 16,
      "outputs": []
    },
    {
      "cell_type": "code",
      "metadata": {
        "id": "JO1MuadaCaME",
        "colab_type": "code",
        "colab": {
          "base_uri": "https://localhost:8080/",
          "height": 573
        },
        "outputId": "5e6f7693-df59-4a49-93ab-c684ec6350ad"
      },
      "source": [
        "show_train_history(train_history, 'accuracy', 'val_accuracy')\n",
        "show_train_history(train_history, 'loss', 'val_loss')"
      ],
      "execution_count": 17,
      "outputs": [
        {
          "output_type": "display_data",
          "data": {
            "image/png": "[encoded data removed]",
            "text/plain": [
              "<Figure size 432x288 with 1 Axes>"
            ]
          },
          "metadata": {
            "tags": [],
            "needs_background": "light"
          }
        },
        {
          "output_type": "display_data",
          "data": {
            "image/png": "[encoded data removed]",
            "text/plain": [
              "<Figure size 432x288 with 1 Axes>"
            ]
          },
          "metadata": {
            "tags": [],
            "needs_background": "light"
          }
        }
      ]
    },
    {
      "cell_type": "code",
      "metadata": {
        "id": "h81dveXXCcwP",
        "colab_type": "code",
        "colab": {
          "base_uri": "https://localhost:8080/",
          "height": 52
        },
        "outputId": "fed7566f-67d6-4955-c4e1-59f37066cc80"
      },
      "source": [
        "score = model.evaluate(x=x_test, y=y_test_data)\n",
        "score[1]"
      ],
      "execution_count": 18,
      "outputs": [
        {
          "output_type": "stream",
          "text": [
            "1124/1124 [==============================] - 0s 315us/step\n"
          ],
          "name": "stdout"
        },
        {
          "output_type": "execute_result",
          "data": {
            "text/plain": [
              "0.8238434195518494"
            ]
          },
          "metadata": {
            "tags": []
          },
          "execution_count": 18
        }
      ]
    },
    {
      "cell_type": "code",
      "metadata": {
        "id": "on8g5Y49ENH5",
        "colab_type": "code",
        "colab": {}
      },
      "source": [
        ""
      ],
      "execution_count": null,
      "outputs": []
    }
  ]
}